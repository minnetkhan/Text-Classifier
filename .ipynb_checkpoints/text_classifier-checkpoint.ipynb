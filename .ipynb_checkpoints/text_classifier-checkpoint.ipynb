{
 "cells": [
  {
   "cell_type": "code",
   "execution_count": 1,
   "metadata": {},
   "outputs": [],
   "source": [
    "'''\n",
    "    importing all files...\n",
    "'''\n",
    "import pandas as pd\n",
    "import numpy as np\n",
    "from nltk.stem import WordNetLemmatizer\n",
    "import os, nltk, unicodedata, string, re, pickle\n",
    "from sys import getsizeof\n",
    "import math\n",
    "\n",
    "import normalization"
   ]
  },
  {
   "cell_type": "code",
   "execution_count": 2,
   "metadata": {},
   "outputs": [
    {
     "name": "stdout",
     "output_type": "stream",
     "text": [
      "NASA (The National Aeronautics and Space Administration) is the civilian space agency of of the United States Federal Government. It reports directly to the White House and is not a Cabinet post such as the military Department of Defense.  Its 20K+ employees are civil servants and hence US citizens.  Another 100K+ contractors also work for NASA.\n"
     ]
    }
   ],
   "source": [
    "'''\n",
    "    importing trained model and test file\n",
    "'''\n",
    "pickle_file = open(\"training/pickled_model\", \"rb\")\n",
    "model = pickle.load(pickle_file)\n",
    "pickle_file.close()\n",
    "class_mapping_index, class_docs_count, total_docs, class_prob, \\\n",
    "count_each_word_frequency_in_each_class, total_words_in_each_class, total_vocabulary = model\n",
    "\n",
    "test_data = input()\n",
    "\n",
    "test_data = normalization.normalize(test_data)"
   ]
  },
  {
   "cell_type": "code",
   "execution_count": 3,
   "metadata": {
    "scrolled": false
   },
   "outputs": [
    {
     "name": "stdout",
     "output_type": "stream",
     "text": [
      "After  1 smoothing\n",
      "text belongs to class:  sci.space\n",
      "*********************************************************************\n",
      "\n",
      "After  5 smoothing\n",
      "text belongs to class:  sci.space\n",
      "*********************************************************************\n",
      "\n",
      "After  10 smoothing\n",
      "text belongs to class:  sci.space\n",
      "*********************************************************************\n",
      "\n",
      "After  100 smoothing\n",
      "text belongs to class:  sci.space\n",
      "*********************************************************************\n",
      "\n"
     ]
    }
   ],
   "source": [
    "add_k_smoothing = [1, 5, 10, 100]\n",
    "\n",
    "prob_of_each_class = [[0 for j in range(0, 4)] for i in range(0, 20) ]\n",
    "\n",
    "for class_index, count_each_word_frequency_in_each_class in enumerate(count_each_word_frequency_in_each_class):\n",
    "        total_words_in_a_class = total_words_in_each_class[class_index]\n",
    "\n",
    "        for word in test_data:\n",
    "            if word in count_each_word_frequency_in_each_class:\n",
    "                freq_of_word_in_a_class = count_each_word_frequency_in_each_class[word]\n",
    "            else:\n",
    "                freq_of_word_in_a_class = 0\n",
    "\n",
    "            for index, smoothing_factor in enumerate(add_k_smoothing):\n",
    "                log_value = math.log10((freq_of_word_in_a_class+smoothing_factor)/\n",
    "                                   (total_words_in_a_class+(smoothing_factor*total_vocabulary)))\n",
    "\n",
    "                prob_of_each_class[class_index][index] += log_value\n",
    "\n",
    "                \n",
    "                \n",
    "for smoothing_index, smoothing_factor in enumerate(add_k_smoothing):\n",
    "    max = prob_of_each_class[0][smoothing_index]\n",
    "    class_name = 100\n",
    "    print(\"After \", smoothing_factor, \"smoothing\")\n",
    "    for class_index, prob in enumerate(prob_of_each_class):\n",
    "        if prob[0] >= max:\n",
    "            max = prob[0]\n",
    "            class_name = class_index\n",
    "            \n",
    "    print(\"text belongs to class: \", class_mapping_index[class_name][0])\n",
    "    \n",
    "    print(\"*********************************************************************\\n\")"
   ]
  }
 ],
 "metadata": {
  "kernelspec": {
   "display_name": "Python 3",
   "language": "python",
   "name": "python3"
  },
  "language_info": {
   "codemirror_mode": {
    "name": "ipython",
    "version": 3
   },
   "file_extension": ".py",
   "mimetype": "text/x-python",
   "name": "python",
   "nbconvert_exporter": "python",
   "pygments_lexer": "ipython3",
   "version": "3.8.5"
  }
 },
 "nbformat": 4,
 "nbformat_minor": 2
}
